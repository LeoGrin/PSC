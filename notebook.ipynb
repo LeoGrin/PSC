{
 "cells": [
  {
   "cell_type": "code",
   "execution_count": 2,
   "metadata": {},
   "outputs": [
    {
     "name": "stderr",
     "output_type": "stream",
     "text": [
      "/Users/anne/anaconda/envs/psc/lib/python3.7/site-packages/xenaPython/__init__.py:110: FutureWarning: Possible nested set at position 7\n",
      "  re.sub(r\"^[^[]+[[]([^]]*)[]].*$\", r\"\\1\", query, flags=re.DOTALL))\n"
     ]
    }
   ],
   "source": [
    "import numpy as np\n",
    "import pandas as pd\n",
    "import seaborn as sns #for plotting\n",
    "\n",
    "#for data fetching\n",
    "import xenaPython as xena\n",
    "\n",
    "# for survival analysis\n",
    "import lifelines\n",
    "from lifelines import CoxPHFitter\n",
    "from lifelines import KaplanMeierFitter"
   ]
  },
  {
   "cell_type": "markdown",
   "metadata": {},
   "source": [
    "# Fetch the data on TCGA (using XenaPython)"
   ]
  },
  {
   "cell_type": "code",
   "execution_count": 133,
   "metadata": {},
   "outputs": [],
   "source": [
    "def get_codes(host, dataset, fields, data):\n",
    "    \"get codes for enumerations\"\n",
    "    codes = xena.field_codes(host, dataset, fields)\n",
    "    codes_idx = dict([(x['name'], x['code'].split('\\t')) for x in codes if x['code'] is not None])\n",
    "    for i in range(len(fields)):\n",
    "        if fields[i] in codes_idx:\n",
    "            data[i] = [None if v == 'NaN' else codes_idx[fields[i]][int(v)] for v in data[i]]\n",
    "    return data\n",
    "\n",
    "def get_fields(host, dataset, samples, fields):\n",
    "    \"get field values\"\n",
    "    data = xena.dataset_fetch(host, dataset, samples, fields)\n",
    "    return data\n",
    "\n",
    "def get_fields_and_codes(host, dataset, samples, fields):\n",
    "    \"get fields and resolve codes\"\n",
    "    return get_codes( host, dataset, fields, get_fields( host, dataset, samples, fields))"
   ]
  },
  {
   "cell_type": "markdown",
   "metadata": {},
   "source": [
    "### Gene expression data"
   ]
  },
  {
   "cell_type": "code",
   "execution_count": 134,
   "metadata": {},
   "outputs": [],
   "source": [
    "\n",
    "hub = \"https://gdc.xenahubs.net\"\n",
    "dataset = \"TCGA-BRCA/Xena_Matrices/TCGA-BRCA.htseq_fpkm-uq.tsv\" #database url was found on the hub website\n",
    "samples = xena.dataset_samples (hub, dataset, None)\n",
    "genes =[\"NCKAP1\", \"ARPIN\", \"PICK1\", \"WASF1\", \"CYFIP1\", \"ABI1\", \"BRK1\"] #enter the genes of interest\n",
    "fields = [\"sampleID\"]\n",
    "expressions_0 = xena.dataset_gene_probe_avg(hub, dataset, samples, genes)\n",
    "\n",
    "values = get_fields_and_codes(hub, dataset, samples, fields) # list of lists\n",
    "\n",
    "genes_dict_for_df = dict(zip(fields, values)) #dict where we add the gene expression and the sample ids"
   ]
  },
  {
   "cell_type": "code",
   "execution_count": 135,
   "metadata": {},
   "outputs": [],
   "source": [
    "for dico in expressions_0:\n",
    "    label = \"expression\" + dico[\"gene\"]\n",
    "    scores = dico[\"scores\"][0]\n",
    "    assert len(scores) > 0\n",
    "    genes_dict_for_df[label] = scores"
   ]
  },
  {
   "cell_type": "markdown",
   "metadata": {},
   "source": [
    "### Survival data"
   ]
  },
  {
   "cell_type": "code",
   "execution_count": 136,
   "metadata": {},
   "outputs": [],
   "source": [
    "dataset = \"TCGA-BRCA/Xena_Matrices/TCGA-BRCA.survival.tsv\"\n",
    "fields = ['_TIME_TO_EVENT', \"_EVENT\", \"sampleID\"] #event is one if the patient has died or 0 if he was censored (lost...)\n",
    "#TODO\n",
    "# As in pancan, there are normal samples in tcga which should probably be removed. _sample_type will\n",
    "# identify normals. _study will identify tcga vs. gtex vs. target.\n",
    "values = get_fields_and_codes(hub, dataset, samples, fields) # list of lists\n",
    "survival_dict_for_df = dict(zip(fields, values)) # index by phenotype"
   ]
  },
  {
   "cell_type": "code",
   "execution_count": 137,
   "metadata": {},
   "outputs": [],
   "source": [
    "survival_dict_for_df[\"survival\"] = survival_dict_for_df.pop(\"_TIME_TO_EVENT\") \n",
    "survival_dict_for_df[\"event\"] = survival_dict_for_df.pop(\"_EVENT\")"
   ]
  },
  {
   "cell_type": "markdown",
   "metadata": {},
   "source": [
    "### Phenotype data"
   ]
  },
  {
   "cell_type": "code",
   "execution_count": 138,
   "metadata": {},
   "outputs": [],
   "source": [
    "dataset = \"TCGA-BRCA/Xena_Matrices/TCGA-BRCA.GDC_phenotype.tsv\"\n",
    "fields = ['sample_type.samples', \"sampleID\"] \n",
    "values = get_fields_and_codes(hub, dataset, samples, fields) # list of lists\n",
    "phenotype_dict_for_df = dict(zip(fields, values)) # index by phenotype"
   ]
  },
  {
   "cell_type": "code",
   "execution_count": 139,
   "metadata": {},
   "outputs": [],
   "source": [
    "phenotype_dict_for_df[\"sample_type\"] = phenotype_dict_for_df.pop('sample_type.samples')"
   ]
  },
  {
   "cell_type": "markdown",
   "metadata": {},
   "source": [
    "Note : I don't know if it's useful to remove the patients whose tumor is not a \"Primary Tumor\", like advised by Xena. The goal is to remove duplicates but I can't find duplicates"
   ]
  },
  {
   "cell_type": "markdown",
   "metadata": {},
   "source": [
    "### Merge data"
   ]
  },
  {
   "cell_type": "code",
   "execution_count": 141,
   "metadata": {},
   "outputs": [
    {
     "name": "stderr",
     "output_type": "stream",
     "text": [
      "/Users/anne/anaconda/envs/psc/lib/python3.7/site-packages/ipykernel_launcher.py:7: FutureWarning: convert_objects is deprecated.  To re-infer data dtypes for object columns, use DataFrame.infer_objects()\n",
      "For all other conversions use the data-type specific converters pd.to_datetime, pd.to_timedelta and pd.to_numeric.\n",
      "  import sys\n"
     ]
    }
   ],
   "source": [
    "df_genes = pd.DataFrame(data=genes_dict_for_df)\n",
    "df_survival = pd.DataFrame(data=survival_dict_for_df)\n",
    "#df_phenotype = pd.DataFrame(data=phenotype_dict_for_df)\n",
    "\n",
    "df = pd.merge(df_genes, df_survival) # merge the survival and genes data according to sampleID\n",
    "#df = pd.merge(df, df_phenotype) #merge also the phenotype data \n",
    "df = df.convert_objects(convert_numeric=True)\n",
    "df = df[~pd.isna(df[\"survival\"])][~pd.isna(df[\"event\"])]\n",
    "#df = df[df[\"sample_type\"] == \"Primary Tumor\"] #keep only primary tumor to remove duplicate WARNING : check if name doesn't change if you use another dataset\n",
    "#df = df.drop(['sampleID','sample_type'], axis=1) #remove identifier for analysis\n",
    "\n",
    "df = df.drop('sampleID', axis=1) #remove identifier for analysis"
   ]
  },
  {
   "cell_type": "code",
   "execution_count": 143,
   "metadata": {},
   "outputs": [
    {
     "data": {
      "text/html": [
       "<div>\n",
       "<style scoped>\n",
       "    .dataframe tbody tr th:only-of-type {\n",
       "        vertical-align: middle;\n",
       "    }\n",
       "\n",
       "    .dataframe tbody tr th {\n",
       "        vertical-align: top;\n",
       "    }\n",
       "\n",
       "    .dataframe thead th {\n",
       "        text-align: right;\n",
       "    }\n",
       "</style>\n",
       "<table border=\"1\" class=\"dataframe\">\n",
       "  <thead>\n",
       "    <tr style=\"text-align: right;\">\n",
       "      <th></th>\n",
       "      <th>sampleID</th>\n",
       "      <th>expressionNCKAP1</th>\n",
       "      <th>expressionARPIN</th>\n",
       "      <th>expressionPICK1</th>\n",
       "      <th>expressionWASF1</th>\n",
       "      <th>expressionCYFIP1</th>\n",
       "      <th>expressionABI1</th>\n",
       "      <th>expressionBRK1</th>\n",
       "      <th>survival</th>\n",
       "      <th>event</th>\n",
       "    </tr>\n",
       "  </thead>\n",
       "  <tbody>\n",
       "    <tr>\n",
       "      <th>0</th>\n",
       "      <td>TCGA-3C-AAAU-01A</td>\n",
       "      <td>17.61</td>\n",
       "      <td>17.38</td>\n",
       "      <td>17.40</td>\n",
       "      <td>14.41</td>\n",
       "      <td>18.34</td>\n",
       "      <td>17.68</td>\n",
       "      <td>20.59</td>\n",
       "      <td>4047</td>\n",
       "      <td>0</td>\n",
       "    </tr>\n",
       "    <tr>\n",
       "      <th>1</th>\n",
       "      <td>TCGA-3C-AALI-01A</td>\n",
       "      <td>17.15</td>\n",
       "      <td>17.38</td>\n",
       "      <td>17.37</td>\n",
       "      <td>15.20</td>\n",
       "      <td>17.89</td>\n",
       "      <td>18.12</td>\n",
       "      <td>21.15</td>\n",
       "      <td>4005</td>\n",
       "      <td>0</td>\n",
       "    </tr>\n",
       "    <tr>\n",
       "      <th>2</th>\n",
       "      <td>TCGA-3C-AALJ-01A</td>\n",
       "      <td>16.70</td>\n",
       "      <td>16.67</td>\n",
       "      <td>17.18</td>\n",
       "      <td>15.06</td>\n",
       "      <td>17.82</td>\n",
       "      <td>18.47</td>\n",
       "      <td>21.31</td>\n",
       "      <td>1474</td>\n",
       "      <td>0</td>\n",
       "    </tr>\n",
       "    <tr>\n",
       "      <th>3</th>\n",
       "      <td>TCGA-3C-AALK-01A</td>\n",
       "      <td>17.27</td>\n",
       "      <td>17.38</td>\n",
       "      <td>17.46</td>\n",
       "      <td>16.05</td>\n",
       "      <td>18.43</td>\n",
       "      <td>18.12</td>\n",
       "      <td>21.59</td>\n",
       "      <td>1448</td>\n",
       "      <td>0</td>\n",
       "    </tr>\n",
       "    <tr>\n",
       "      <th>4</th>\n",
       "      <td>TCGA-4H-AAAK-01A</td>\n",
       "      <td>17.11</td>\n",
       "      <td>17.71</td>\n",
       "      <td>17.74</td>\n",
       "      <td>16.86</td>\n",
       "      <td>17.93</td>\n",
       "      <td>18.34</td>\n",
       "      <td>21.63</td>\n",
       "      <td>348</td>\n",
       "      <td>0</td>\n",
       "    </tr>\n",
       "  </tbody>\n",
       "</table>\n",
       "</div>"
      ],
      "text/plain": [
       "           sampleID  expressionNCKAP1  expressionARPIN  expressionPICK1  \\\n",
       "0  TCGA-3C-AAAU-01A             17.61            17.38            17.40   \n",
       "1  TCGA-3C-AALI-01A             17.15            17.38            17.37   \n",
       "2  TCGA-3C-AALJ-01A             16.70            16.67            17.18   \n",
       "3  TCGA-3C-AALK-01A             17.27            17.38            17.46   \n",
       "4  TCGA-4H-AAAK-01A             17.11            17.71            17.74   \n",
       "\n",
       "   expressionWASF1  expressionCYFIP1  expressionABI1  expressionBRK1  \\\n",
       "0            14.41             18.34           17.68           20.59   \n",
       "1            15.20             17.89           18.12           21.15   \n",
       "2            15.06             17.82           18.47           21.31   \n",
       "3            16.05             18.43           18.12           21.59   \n",
       "4            16.86             17.93           18.34           21.63   \n",
       "\n",
       "   survival  event  \n",
       "0      4047      0  \n",
       "1      4005      0  \n",
       "2      1474      0  \n",
       "3      1448      0  \n",
       "4       348      0  "
      ]
     },
     "execution_count": 143,
     "metadata": {},
     "output_type": "execute_result"
    }
   ],
   "source": [
    "df.head()"
   ]
  },
  {
   "cell_type": "markdown",
   "metadata": {},
   "source": [
    "# Analyse the data (using Lifelines)"
   ]
  },
  {
   "cell_type": "code",
   "execution_count": 131,
   "metadata": {},
   "outputs": [
    {
     "data": {
      "text/plain": [
       "<matplotlib.axes._subplots.AxesSubplot at 0x1a16f6f320>"
      ]
     },
     "execution_count": 131,
     "metadata": {},
     "output_type": "execute_result"
    },
    {
     "data": {
      "image/png": "[encoded data removed]",
      "text/plain": [
       "<Figure size 432x288 with 1 Axes>"
      ]
     },
     "metadata": {
      "needs_background": "light"
     },
     "output_type": "display_data"
    }
   ],
   "source": [
    "kmf = KaplanMeierFitter()\n",
    "kmf.fit(df[\"survival\"], df[\"event\"]) #TODO : tell lifelines if the patient is censored or dead \n",
    "kmf.plot()"
   ]
  },
  {
   "cell_type": "code",
   "execution_count": 132,
   "metadata": {},
   "outputs": [
    {
     "name": "stdout",
     "output_type": "stream",
     "text": [
      "Iteration 1: norm_delta = 0.23670, step_size = 0.95000, ll = -867.53103, newton_decrement = 5.74289, seconds_since_start = 0.0\n",
      "Iteration 2: norm_delta = 0.01590, step_size = 0.95000, ll = -861.81855, newton_decrement = 0.02314, seconds_since_start = 0.1\n",
      "Iteration 3: norm_delta = 0.00084, step_size = 0.95000, ll = -861.79543, newton_decrement = 0.00006, seconds_since_start = 0.1\n",
      "Iteration 4: norm_delta = 0.00004, step_size = 0.95000, ll = -861.79536, newton_decrement = 0.00000, seconds_since_start = 0.1\n",
      "Convergence completed after 4 iterations.\n",
      "<lifelines.CoxPHFitter: fitted with 1083 observations, 930 censored>\n",
      "      duration col = 'survival'\n",
      "         event col = 'event'\n",
      "number of subjects = 1083\n",
      "  number of events = 153\n",
      "    log-likelihood = -861.80\n",
      "  time fit was run = 2019-01-19 16:30:18 UTC\n",
      "\n",
      "---\n",
      "                  coef  exp(coef)  se(coef)     z    p  log(p)  lower 0.95  upper 0.95   \n",
      "expressionNCKAP1  0.21       1.24      0.19  1.10 0.27   -1.30       -0.17        0.59   \n",
      "expressionARPIN  -0.04       0.96      0.11 -0.39 0.69   -0.36       -0.25        0.17   \n",
      "expressionPICK1  -0.18       0.83      0.13 -1.39 0.16   -1.80       -0.44        0.07   \n",
      "expressionWASF1   0.02       1.02      0.07  0.32 0.75   -0.29       -0.11        0.15   \n",
      "expressionCYFIP1  0.27       1.31      0.20  1.32 0.19   -1.67       -0.13        0.67   \n",
      "expressionABI1    0.05       1.05      0.19  0.24 0.81   -0.21       -0.33        0.43   \n",
      "expressionBRK1    0.27       1.31      0.17  1.58 0.11   -2.18       -0.06        0.60   \n",
      "---\n",
      "Signif. codes: 0 '***' 0.0001 '**' 0.001 '*' 0.01 '.' 0.05 ' ' 1\n",
      "\n",
      "Concordance = 0.56\n",
      "Likelihood ratio test = 11.47 on 7 df, log(p)=-2.13\n"
     ]
    }
   ],
   "source": [
    "cph = CoxPHFitter()\n",
    "cph.fit(df, duration_col='survival', event_col='event', show_progress=True)\n",
    "\n",
    "\n",
    "cph.print_summary() "
   ]
  },
  {
   "cell_type": "code",
   "execution_count": 12,
   "metadata": {},
   "outputs": [
    {
     "data": {
      "text/plain": [
       "<matplotlib.axes._subplots.AxesSubplot at 0x1a152e7b38>"
      ]
     },
     "execution_count": 12,
     "metadata": {},
     "output_type": "execute_result"
    },
    {
     "data": {
      "image/png": "[encoded data removed]",
      "text/plain": [
       "<Figure size 432x288 with 1 Axes>"
      ]
     },
     "metadata": {
      "needs_background": "light"
     },
     "output_type": "display_data"
    }
   ],
   "source": [
    "cph.plot()"
   ]
  },
  {
   "cell_type": "code",
   "execution_count": 153,
   "metadata": {},
   "outputs": [
    {
     "data": {
      "text/plain": [
       "<matplotlib.axes._subplots.AxesSubplot at 0x1a16fabc18>"
      ]
     },
     "execution_count": 153,
     "metadata": {},
     "output_type": "execute_result"
    },
    {
     "data": {
      "image/png": "[encoded data removed]",
      "text/plain": [
       "<Figure size 432x288 with 1 Axes>"
      ]
     },
     "metadata": {
      "needs_background": "light"
     },
     "output_type": "display_data"
    }
   ],
   "source": [
    "cph.plot_covariate_groups('expressionCYFIP1', [0, 5, 10, 15])"
   ]
  },
  {
   "cell_type": "markdown",
   "metadata": {},
   "source": [
    "## The concordance and log-likelihood indicate that the model do not fit very well : let's check the assumptions for cox regression"
   ]
  },
  {
   "cell_type": "code",
   "execution_count": 14,
   "metadata": {},
   "outputs": [
    {
     "ename": "IndexError",
     "evalue": "boolean index did not match indexed array along dimension 0; dimension is 1173 but corresponding boolean dimension is 1203",
     "output_type": "error",
     "traceback": [
      "\u001b[0;31m---------------------------------------------------------------------------\u001b[0m",
      "\u001b[0;31mIndexError\u001b[0m                                Traceback (most recent call last)",
      "\u001b[0;32m<ipython-input-14-cfb1680b09c7>\u001b[0m in \u001b[0;36m<module>\u001b[0;34m()\u001b[0m\n\u001b[0;32m----> 1\u001b[0;31m \u001b[0mcph\u001b[0m\u001b[0;34m.\u001b[0m\u001b[0mcheck_assumptions\u001b[0m\u001b[0;34m(\u001b[0m\u001b[0mdf\u001b[0m\u001b[0;34m)\u001b[0m\u001b[0;34m\u001b[0m\u001b[0m\n\u001b[0m",
      "\u001b[0;32m~/anaconda/envs/psc/lib/python3.7/site-packages/lifelines/fitters/coxph_fitter.py\u001b[0m in \u001b[0;36mcheck_assumptions\u001b[0;34m(self, training_df, advice, show_plots, p_value_threshold, plot_n_bootstraps)\u001b[0m\n\u001b[1;32m   1534\u001b[0m         \u001b[0mhttp\u001b[0m\u001b[0;34m:\u001b[0m\u001b[0;34m//\u001b[0m\u001b[0meprints\u001b[0m\u001b[0;34m.\u001b[0m\u001b[0mlse\u001b[0m\u001b[0;34m.\u001b[0m\u001b[0mac\u001b[0m\u001b[0;34m.\u001b[0m\u001b[0muk\u001b[0m\u001b[0;34m/\u001b[0m\u001b[0;36m84988\u001b[0m\u001b[0;34m/\u001b[0m\u001b[0;36m1\u001b[0m\u001b[0;34m/\u001b[0m\u001b[0;36m0\u001b[0m\u001b[0;36m6\u001b[0m\u001b[0m_ParkHendry2015\u001b[0m\u001b[0;34m-\u001b[0m\u001b[0mReassessingSchoenfeldTests_Final\u001b[0m\u001b[0;34m.\u001b[0m\u001b[0mpdf\u001b[0m\u001b[0;34m\u001b[0m\u001b[0m\n\u001b[1;32m   1535\u001b[0m         \"\"\"\n\u001b[0;32m-> 1536\u001b[0;31m         \u001b[0mresiduals\u001b[0m \u001b[0;34m=\u001b[0m \u001b[0mself\u001b[0m\u001b[0;34m.\u001b[0m\u001b[0mcompute_residuals\u001b[0m\u001b[0;34m(\u001b[0m\u001b[0mtraining_df\u001b[0m\u001b[0;34m,\u001b[0m \u001b[0mkind\u001b[0m\u001b[0;34m=\u001b[0m\u001b[0;34m\"scaled_schoenfeld\"\u001b[0m\u001b[0;34m)\u001b[0m\u001b[0;34m\u001b[0m\u001b[0m\n\u001b[0m\u001b[1;32m   1537\u001b[0m         test_results = proportional_hazard_test(\n\u001b[1;32m   1538\u001b[0m             \u001b[0mself\u001b[0m\u001b[0;34m,\u001b[0m \u001b[0mtraining_df\u001b[0m\u001b[0;34m,\u001b[0m \u001b[0mtime_transform\u001b[0m\u001b[0;34m=\u001b[0m\u001b[0;34m\"all\"\u001b[0m\u001b[0;34m,\u001b[0m \u001b[0mprecomputed_residuals\u001b[0m\u001b[0;34m=\u001b[0m\u001b[0mresiduals\u001b[0m\u001b[0;34m\u001b[0m\u001b[0m\n",
      "\u001b[0;32m~/anaconda/envs/psc/lib/python3.7/site-packages/lifelines/fitters/coxph_fitter.py\u001b[0m in \u001b[0;36mcompute_residuals\u001b[0;34m(self, training_dataframe, kind)\u001b[0m\n\u001b[1;32m   1003\u001b[0m         \u001b[0mX\u001b[0m\u001b[0;34m,\u001b[0m \u001b[0mT\u001b[0m\u001b[0;34m,\u001b[0m \u001b[0mE\u001b[0m\u001b[0;34m,\u001b[0m \u001b[0mweights\u001b[0m\u001b[0;34m,\u001b[0m \u001b[0mshuffled_original_index\u001b[0m\u001b[0;34m,\u001b[0m \u001b[0m_\u001b[0m \u001b[0;34m=\u001b[0m \u001b[0mself\u001b[0m\u001b[0;34m.\u001b[0m\u001b[0m_preprocess_dataframe\u001b[0m\u001b[0;34m(\u001b[0m\u001b[0mtraining_dataframe\u001b[0m\u001b[0;34m)\u001b[0m\u001b[0;34m\u001b[0m\u001b[0m\n\u001b[1;32m   1004\u001b[0m \u001b[0;34m\u001b[0m\u001b[0m\n\u001b[0;32m-> 1005\u001b[0;31m         \u001b[0mresids\u001b[0m \u001b[0;34m=\u001b[0m \u001b[0mgetattr\u001b[0m\u001b[0;34m(\u001b[0m\u001b[0mself\u001b[0m\u001b[0;34m,\u001b[0m \u001b[0;34m\"_compute_%s\"\u001b[0m \u001b[0;34m%\u001b[0m \u001b[0mkind\u001b[0m\u001b[0;34m)\u001b[0m\u001b[0;34m(\u001b[0m\u001b[0mX\u001b[0m\u001b[0;34m,\u001b[0m \u001b[0mT\u001b[0m\u001b[0;34m,\u001b[0m \u001b[0mE\u001b[0m\u001b[0;34m,\u001b[0m \u001b[0mweights\u001b[0m\u001b[0;34m,\u001b[0m \u001b[0mindex\u001b[0m\u001b[0;34m=\u001b[0m\u001b[0mshuffled_original_index\u001b[0m\u001b[0;34m)\u001b[0m\u001b[0;34m\u001b[0m\u001b[0m\n\u001b[0m\u001b[1;32m   1006\u001b[0m         \u001b[0;32mreturn\u001b[0m \u001b[0mresids\u001b[0m\u001b[0;34m\u001b[0m\u001b[0m\n\u001b[1;32m   1007\u001b[0m \u001b[0;34m\u001b[0m\u001b[0m\n",
      "\u001b[0;32m~/anaconda/envs/psc/lib/python3.7/site-packages/lifelines/fitters/coxph_fitter.py\u001b[0m in \u001b[0;36m_compute_scaled_schoenfeld\u001b[0;34m(self, X, T, E, weights, index)\u001b[0m\n\u001b[1;32m    799\u001b[0m \u001b[0;34m\u001b[0m\u001b[0m\n\u001b[1;32m    800\u001b[0m         \u001b[0mn_deaths\u001b[0m \u001b[0;34m=\u001b[0m \u001b[0msum\u001b[0m\u001b[0;34m(\u001b[0m\u001b[0mself\u001b[0m\u001b[0;34m.\u001b[0m\u001b[0mevent_observed\u001b[0m\u001b[0;34m)\u001b[0m\u001b[0;34m\u001b[0m\u001b[0m\n\u001b[0;32m--> 801\u001b[0;31m         scaled_schoenfeld_resids = n_deaths * self._compute_schoenfeld(X, T, E, weights, index).dot(\n\u001b[0m\u001b[1;32m    802\u001b[0m             \u001b[0mself\u001b[0m\u001b[0;34m.\u001b[0m\u001b[0mvariance_matrix_\u001b[0m\u001b[0;34m\u001b[0m\u001b[0m\n\u001b[1;32m    803\u001b[0m         )\n",
      "\u001b[0;32m~/anaconda/envs/psc/lib/python3.7/site-packages/lifelines/fitters/coxph_fitter.py\u001b[0m in \u001b[0;36m_compute_schoenfeld\u001b[0;34m(self, X, T, E, weights, index)\u001b[0m\n\u001b[1;32m    825\u001b[0m \u001b[0;34m\u001b[0m\u001b[0m\n\u001b[1;32m    826\u001b[0m         \u001b[0;31m# schoenfeld residuals are only defined for subjects with a non-zero event.\u001b[0m\u001b[0;34m\u001b[0m\u001b[0;34m\u001b[0m\u001b[0m\n\u001b[0;32m--> 827\u001b[0;31m         \u001b[0mdf\u001b[0m \u001b[0;34m=\u001b[0m \u001b[0mpd\u001b[0m\u001b[0;34m.\u001b[0m\u001b[0mDataFrame\u001b[0m\u001b[0;34m(\u001b[0m\u001b[0mschoenfeld_residuals\u001b[0m\u001b[0;34m[\u001b[0m\u001b[0mE\u001b[0m\u001b[0;34m,\u001b[0m \u001b[0;34m:\u001b[0m\u001b[0;34m]\u001b[0m\u001b[0;34m,\u001b[0m \u001b[0mcolumns\u001b[0m\u001b[0;34m=\u001b[0m\u001b[0mself\u001b[0m\u001b[0;34m.\u001b[0m\u001b[0mhazards_\u001b[0m\u001b[0;34m.\u001b[0m\u001b[0mcolumns\u001b[0m\u001b[0;34m,\u001b[0m \u001b[0mindex\u001b[0m\u001b[0;34m=\u001b[0m\u001b[0mindex\u001b[0m\u001b[0;34m[\u001b[0m\u001b[0mE\u001b[0m\u001b[0;34m]\u001b[0m\u001b[0;34m)\u001b[0m\u001b[0;34m\u001b[0m\u001b[0m\n\u001b[0m\u001b[1;32m    828\u001b[0m         \u001b[0;32mreturn\u001b[0m \u001b[0mdf\u001b[0m\u001b[0;34m\u001b[0m\u001b[0m\n\u001b[1;32m    829\u001b[0m \u001b[0;34m\u001b[0m\u001b[0m\n",
      "\u001b[0;31mIndexError\u001b[0m: boolean index did not match indexed array along dimension 0; dimension is 1173 but corresponding boolean dimension is 1203"
     ]
    }
   ],
   "source": [
    "cph.check_assumptions(df)"
   ]
  },
  {
   "cell_type": "markdown",
   "metadata": {},
   "source": [
    "## TODO : do we have to remove tumors that are not Primary tumors from the list ? make the same transformation than Marc Lavielle, check assumption for Cox Regression, use other form of gene expression (RNAseq) to compare, use other datasets"
   ]
  },
  {
   "cell_type": "markdown",
   "metadata": {},
   "source": [
    "Liens : \n",
    "\n",
    "objectifs en cours : https://docs.google.com/document/d/1A5wxgQ_ZPry4aRH1BsmdbmPJfJoIsy5sa-4P5RmWaTs/edit\n",
    "\n",
    "\n",
    "dossier partagé : https://drive.google.com/drive/u/0/folders/1HotcSiF2BzDuzXMhKNX1p-7lI1U_3UQ9\n",
    "\n",
    "rapport : https://www.overleaf.com/project/5c34f6b7f99dfe3f36bf3a55\n"
   ]
  }
 ],
 "metadata": {
  "kernelspec": {
   "display_name": "Python 3",
   "language": "python",
   "name": "python3"
  },
  "language_info": {
   "codemirror_mode": {
    "name": "ipython",
    "version": 3
   },
   "file_extension": ".py",
   "mimetype": "text/x-python",
   "name": "python",
   "nbconvert_exporter": "python",
   "pygments_lexer": "ipython3",
   "version": "3.7.0"
  }
 },
 "nbformat": 4,
 "nbformat_minor": 2
}
