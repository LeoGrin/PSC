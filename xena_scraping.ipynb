{
 "cells": [
  {
   "cell_type": "code",
   "execution_count": 1,
   "metadata": {},
   "outputs": [
    {
     "name": "stderr",
     "output_type": "stream",
     "text": [
      "/Users/anne/anaconda/envs/psc/lib/python3.7/site-packages/xenaPython/__init__.py:110: FutureWarning: Possible nested set at position 7\n",
      "  re.sub(r\"^[^[]+[[]([^]]*)[]].*$\", r\"\\1\", query, flags=re.DOTALL))\n"
     ]
    }
   ],
   "source": [
    "import numpy as np\n",
    "import pandas as pd\n",
    "import seaborn as sns #for plotting\n",
    "\n",
    "#for data fetching\n",
    "import xenaPython as xena\n",
    "\n",
    "# for survival analysis\n",
    "import lifelines\n",
    "from lifelines import CoxPHFitter\n",
    "from lifelines import KaplanMeierFitter"
   ]
  },
  {
   "cell_type": "markdown",
   "metadata": {},
   "source": [
    "# Fetch the data on TCGA (using XenaPython)"
   ]
  },
  {
   "cell_type": "code",
   "execution_count": 2,
   "metadata": {},
   "outputs": [],
   "source": [
    "def get_codes(host, dataset, fields, data):\n",
    "    \"get codes for enumerations\"\n",
    "    codes = xena.field_codes(host, dataset, fields)\n",
    "    codes_idx = dict([(x['name'], x['code'].split('\\t')) for x in codes if x['code'] is not None])\n",
    "    for i in range(len(fields)):\n",
    "        if fields[i] in codes_idx:\n",
    "            data[i] = [None if v == 'NaN' else codes_idx[fields[i]][int(v)] for v in data[i]]\n",
    "    return data\n",
    "\n",
    "def get_fields(host, dataset, samples, fields):\n",
    "    \"get field values\"\n",
    "    data = xena.dataset_fetch(host, dataset, samples, fields)\n",
    "    return data\n",
    "\n",
    "def get_fields_and_codes(host, dataset, samples, fields):\n",
    "    \"get fields and resolve codes\"\n",
    "    return get_codes( host, dataset, fields, get_fields( host, dataset, samples, fields))"
   ]
  },
  {
   "cell_type": "markdown",
   "metadata": {},
   "source": [
    "### Gene expression data"
   ]
  },
  {
   "cell_type": "code",
   "execution_count": 73,
   "metadata": {},
   "outputs": [],
   "source": [
    "\n",
    "hub = \"https://gdc.xenahubs.net\"\n",
    "dataset = \"TCGA-BRCA/Xena_Matrices/TCGA-BRCA.htseq_fpkm-uq.tsv\" #database url was found on the hub website\n",
    "samples = xena.dataset_samples (hub, dataset, None)\n",
    "#wave genes\n",
    "#genes =[\"NCKAP1\",\"CYFIP2\", \"NCKAP1L\", \"WASF2\", \"ABI3\", \"WASF3\", \"ABI1\", \"ABI2\", \"CYFIP1\", \"WASF1\", \"BRK1\"] #enter the genes of interest\n",
    "#Arp2-3 genes\n",
    "#genes = [\"ACTR2\", \"ACTR3\", \"ARPC1A\", \"ARPC2\", \"ARPC3\", \"ARPC4\", \"ARPC5\", \"ACTR3B\", \"ARPC1B\", \"ARPC5L\"]\n",
    "#Arpin\n",
    "genes = [\"Arpin\"]\n",
    "fields = [\"sampleID\"]\n",
    "expressions_0 = xena.dataset_gene_probe_avg(hub, dataset, samples, genes)\n",
    "\n",
    "values = get_fields_and_codes(hub, dataset, samples, fields) # list of lists\n",
    "\n",
    "genes_dict_for_df = dict(zip(fields, values)) #dict where we add the gene expression and the sample ids"
   ]
  },
  {
   "cell_type": "code",
   "execution_count": 74,
   "metadata": {},
   "outputs": [],
   "source": [
    "for dico in expressions_0:\n",
    "    label = \"expression\" + dico[\"gene\"]\n",
    "    scores = dico[\"scores\"][0]\n",
    "    assert len(scores) > 0\n",
    "    genes_dict_for_df[label] = scores"
   ]
  },
  {
   "cell_type": "markdown",
   "metadata": {},
   "source": [
    "### Survival data"
   ]
  },
  {
   "cell_type": "code",
   "execution_count": 75,
   "metadata": {},
   "outputs": [],
   "source": [
    "dataset = \"TCGA-BRCA/Xena_Matrices/TCGA-BRCA.survival.tsv\"\n",
    "fields = ['_TIME_TO_EVENT', \"_EVENT\", \"sampleID\"] #event is one if the patient has died or 0 if he was censored (lost...)\n",
    "#TODO\n",
    "# As in pancan, there are normal samples in tcga which should probably be removed. _sample_type will\n",
    "# identify normals. _study will identify tcga vs. gtex vs. target.\n",
    "values = get_fields_and_codes(hub, dataset, samples, fields) # list of lists\n",
    "survival_dict_for_df = dict(zip(fields, values)) # index by phenotype"
   ]
  },
  {
   "cell_type": "code",
   "execution_count": 76,
   "metadata": {},
   "outputs": [],
   "source": [
    "survival_dict_for_df[\"survival\"] = survival_dict_for_df.pop(\"_TIME_TO_EVENT\") \n",
    "survival_dict_for_df[\"event\"] = survival_dict_for_df.pop(\"_EVENT\")"
   ]
  },
  {
   "cell_type": "markdown",
   "metadata": {},
   "source": [
    "### Phenotype data"
   ]
  },
  {
   "cell_type": "code",
   "execution_count": 77,
   "metadata": {},
   "outputs": [],
   "source": [
    "dataset = \"TCGA-BRCA/Xena_Matrices/TCGA-BRCA.GDC_phenotype.tsv\"\n",
    "fields = ['sample_type.samples', \"sampleID\"] \n",
    "values = get_fields_and_codes(hub, dataset, samples, fields) # list of lists\n",
    "phenotype_dict_for_df = dict(zip(fields, values)) # index by phenotype"
   ]
  },
  {
   "cell_type": "code",
   "execution_count": 78,
   "metadata": {},
   "outputs": [],
   "source": [
    "phenotype_dict_for_df[\"sample_type\"] = phenotype_dict_for_df.pop('sample_type.samples')"
   ]
  },
  {
   "cell_type": "markdown",
   "metadata": {},
   "source": [
    "Note : I don't know if it's useful to remove the patients whose tumor is not a \"Primary Tumor\", like advised by Xena. The goal is to remove duplicates but I can't find duplicates"
   ]
  },
  {
   "cell_type": "markdown",
   "metadata": {},
   "source": [
    "### Merge data"
   ]
  },
  {
   "cell_type": "code",
   "execution_count": 79,
   "metadata": {},
   "outputs": [
    {
     "name": "stderr",
     "output_type": "stream",
     "text": [
      "/Users/anne/anaconda/envs/psc/lib/python3.7/site-packages/ipykernel_launcher.py:7: FutureWarning: convert_objects is deprecated.  To re-infer data dtypes for object columns, use DataFrame.infer_objects()\n",
      "For all other conversions use the data-type specific converters pd.to_datetime, pd.to_timedelta and pd.to_numeric.\n",
      "  import sys\n"
     ]
    }
   ],
   "source": [
    "df_genes = pd.DataFrame(data=genes_dict_for_df)\n",
    "df_survival = pd.DataFrame(data=survival_dict_for_df)\n",
    "#df_phenotype = pd.DataFrame(data=phenotype_dict_for_df)\n",
    "\n",
    "df = pd.merge(df_genes, df_survival) # merge the survival and genes data according to sampleID\n",
    "#df = pd.merge(df, df_phenotype) #merge also the phenotype data \n",
    "df = df.convert_objects(convert_numeric=True)\n",
    "df = df[~pd.isna(df[\"survival\"])][~pd.isna(df[\"event\"])]\n",
    "#df = df[df[\"sample_type\"] == \"Primary Tumor\"] #keep only primary tumor to remove duplicate WARNING : check if name doesn't change if you use another dataset\n",
    "#df = df.drop(['sampleID','sample_type'], axis=1) #remove identifier for analysis\n",
    "\n",
    "df = df.drop('sampleID', axis=1) #remove identifier for analysis"
   ]
  },
  {
   "cell_type": "code",
   "execution_count": 80,
   "metadata": {},
   "outputs": [
    {
     "data": {
      "text/html": [
       "<div>\n",
       "<style scoped>\n",
       "    .dataframe tbody tr th:only-of-type {\n",
       "        vertical-align: middle;\n",
       "    }\n",
       "\n",
       "    .dataframe tbody tr th {\n",
       "        vertical-align: top;\n",
       "    }\n",
       "\n",
       "    .dataframe thead th {\n",
       "        text-align: right;\n",
       "    }\n",
       "</style>\n",
       "<table border=\"1\" class=\"dataframe\">\n",
       "  <thead>\n",
       "    <tr style=\"text-align: right;\">\n",
       "      <th></th>\n",
       "      <th>expressionArpin</th>\n",
       "      <th>survival</th>\n",
       "      <th>event</th>\n",
       "    </tr>\n",
       "  </thead>\n",
       "  <tbody>\n",
       "    <tr>\n",
       "      <th>0</th>\n",
       "      <td>17.38</td>\n",
       "      <td>4047</td>\n",
       "      <td>0</td>\n",
       "    </tr>\n",
       "    <tr>\n",
       "      <th>1</th>\n",
       "      <td>17.38</td>\n",
       "      <td>4005</td>\n",
       "      <td>0</td>\n",
       "    </tr>\n",
       "    <tr>\n",
       "      <th>2</th>\n",
       "      <td>16.67</td>\n",
       "      <td>1474</td>\n",
       "      <td>0</td>\n",
       "    </tr>\n",
       "    <tr>\n",
       "      <th>3</th>\n",
       "      <td>17.38</td>\n",
       "      <td>1448</td>\n",
       "      <td>0</td>\n",
       "    </tr>\n",
       "    <tr>\n",
       "      <th>4</th>\n",
       "      <td>17.71</td>\n",
       "      <td>348</td>\n",
       "      <td>0</td>\n",
       "    </tr>\n",
       "  </tbody>\n",
       "</table>\n",
       "</div>"
      ],
      "text/plain": [
       "   expressionArpin  survival  event\n",
       "0            17.38      4047      0\n",
       "1            17.38      4005      0\n",
       "2            16.67      1474      0\n",
       "3            17.38      1448      0\n",
       "4            17.71       348      0"
      ]
     },
     "execution_count": 80,
     "metadata": {},
     "output_type": "execute_result"
    }
   ],
   "source": [
    "df.head()"
   ]
  },
  {
   "cell_type": "markdown",
   "metadata": {},
   "source": [
    "   ## Export the data so we can use them with R"
   ]
  },
  {
   "cell_type": "code",
   "execution_count": 81,
   "metadata": {},
   "outputs": [],
   "source": [
    "df.to_csv(\"data_base_Arpin\")"
   ]
  },
  {
   "cell_type": "markdown",
   "metadata": {},
   "source": [
    "# Analyse the data (using Lifelines)"
   ]
  },
  {
   "cell_type": "code",
   "execution_count": 12,
   "metadata": {},
   "outputs": [
    {
     "data": {
      "text/plain": [
       "<matplotlib.axes._subplots.AxesSubplot at 0x1a2240eeb8>"
      ]
     },
     "execution_count": 12,
     "metadata": {},
     "output_type": "execute_result"
    },
    {
     "data": {
      "image/png": "[encoded data removed]",
      "text/plain": [
       "<Figure size 432x288 with 1 Axes>"
      ]
     },
     "metadata": {
      "needs_background": "light"
     },
     "output_type": "display_data"
    }
   ],
   "source": [
    "kmf = KaplanMeierFitter()\n",
    "kmf.fit(df[\"survival\"], df[\"event\"]) #TODO : tell lifelines if the patient is censored or dead \n",
    "kmf.plot()"
   ]
  },
  {
   "cell_type": "code",
   "execution_count": 13,
   "metadata": {},
   "outputs": [
    {
     "name": "stdout",
     "output_type": "stream",
     "text": [
      "<lifelines.CoxPHFitter: fitted with 1203 observations, 1003 censored>\n",
      "      duration col = 'survival'\n",
      "         event col = 'event'\n",
      "number of subjects = 1203\n",
      "  number of events = 200\n",
      "    log-likelihood = -1147.22\n",
      "  time fit was run = 2019-01-24 17:14:54 UTC\n",
      "\n",
      "---\n",
      "                  coef  exp(coef)  se(coef)     z    p  log(p)  lower 0.95  upper 0.95   \n",
      "expressionNCKAP1  0.23       1.26      0.18  1.30 0.20   -1.63       -0.12        0.58   \n",
      "expressionARPIN   0.04       1.04      0.10  0.37 0.71   -0.34       -0.16        0.23   \n",
      "expressionPICK1  -0.18       0.84      0.12 -1.52 0.13   -2.05       -0.41        0.05   \n",
      "expressionWASF1   0.08       1.08      0.06  1.23 0.22   -1.52       -0.05        0.20   \n",
      "expressionCYFIP1  0.28       1.32      0.19  1.48 0.14   -1.97       -0.09        0.64   \n",
      "expressionABI1   -0.06       0.95      0.18 -0.31 0.76   -0.28       -0.41        0.30   \n",
      "expressionBRK1    0.16       1.17      0.16  1.00 0.32   -1.15       -0.15        0.46   \n",
      "---\n",
      "Signif. codes: 0 '***' 0.0001 '**' 0.001 '*' 0.01 '.' 0.05 ' ' 1\n",
      "\n",
      "Concordance = 0.56\n",
      "Likelihood ratio test = 15.58 on 7 df, log(p)=-3.53\n"
     ]
    }
   ],
   "source": [
    "cph = CoxPHFitter()\n",
    "cph.fit(df, duration_col='survival', event_col='event')\n",
    "\n",
    "\n",
    "cph.print_summary() "
   ]
  },
  {
   "cell_type": "code",
   "execution_count": 14,
   "metadata": {},
   "outputs": [
    {
     "data": {
      "text/plain": [
       "<matplotlib.axes._subplots.AxesSubplot at 0x1a227d5240>"
      ]
     },
     "execution_count": 14,
     "metadata": {},
     "output_type": "execute_result"
    },
    {
     "data": {
      "image/png": "[encoded data removed]",
      "text/plain": [
       "<Figure size 432x288 with 1 Axes>"
      ]
     },
     "metadata": {
      "needs_background": "light"
     },
     "output_type": "display_data"
    }
   ],
   "source": [
    "cph.plot()"
   ]
  },
  {
   "cell_type": "code",
   "execution_count": 15,
   "metadata": {},
   "outputs": [
    {
     "data": {
      "text/plain": [
       "<matplotlib.axes._subplots.AxesSubplot at 0x1a22c7f908>"
      ]
     },
     "execution_count": 15,
     "metadata": {},
     "output_type": "execute_result"
    },
    {
     "data": {
      "image/png": "[encoded data removed]",
      "text/plain": [
       "<Figure size 432x288 with 1 Axes>"
      ]
     },
     "metadata": {
      "needs_background": "light"
     },
     "output_type": "display_data"
    }
   ],
   "source": [
    "cph.plot_covariate_groups('expressionCYFIP1', [0, 5, 10, 15])"
   ]
  },
  {
   "cell_type": "markdown",
   "metadata": {},
   "source": [
    "## The concordance and log-likelihood indicate that the model do not fit very well : let's check the assumptions for cox regression"
   ]
  },
  {
   "cell_type": "code",
   "execution_count": 20,
   "metadata": {},
   "outputs": [],
   "source": [
    "# doesn't work so go to R"
   ]
  },
  {
   "cell_type": "markdown",
   "metadata": {},
   "source": [
    "## TODO : do we have to remove tumors that are not Primary tumors from the list ? make the same transformation than Marc Lavielle, check assumption for Cox Regression, use other form of gene expression (RNAseq) to compare, use other datasets"
   ]
  },
  {
   "cell_type": "markdown",
   "metadata": {},
   "source": [
    "Liens : \n",
    "\n",
    "objectifs en cours : https://docs.google.com/document/d/1A5wxgQ_ZPry4aRH1BsmdbmPJfJoIsy5sa-4P5RmWaTs/edit\n",
    "\n",
    "\n",
    "dossier partagé : https://drive.google.com/drive/u/0/folders/1HotcSiF2BzDuzXMhKNX1p-7lI1U_3UQ9\n",
    "\n",
    "rapport : https://www.overleaf.com/project/5c34f6b7f99dfe3f36bf3a55\n"
   ]
  },
  {
   "cell_type": "markdown",
   "metadata": {},
   "source": [
    "### Generate data for report"
   ]
  },
  {
   "cell_type": "code",
   "execution_count": 67,
   "metadata": {},
   "outputs": [],
   "source": [
    "df2 = pd.read_csv(\"data_for_report_arp23\")"
   ]
  },
  {
   "cell_type": "code",
   "execution_count": 68,
   "metadata": {},
   "outputs": [
    {
     "data": {
      "text/html": [
       "<div>\n",
       "<style scoped>\n",
       "    .dataframe tbody tr th:only-of-type {\n",
       "        vertical-align: middle;\n",
       "    }\n",
       "\n",
       "    .dataframe tbody tr th {\n",
       "        vertical-align: top;\n",
       "    }\n",
       "\n",
       "    .dataframe thead th {\n",
       "        text-align: right;\n",
       "    }\n",
       "</style>\n",
       "<table border=\"1\" class=\"dataframe\">\n",
       "  <thead>\n",
       "    <tr style=\"text-align: right;\">\n",
       "      <th></th>\n",
       "      <th>Unnamed: 0</th>\n",
       "      <th>coef</th>\n",
       "      <th>exp(coef)</th>\n",
       "      <th>se(coef)</th>\n",
       "      <th>z</th>\n",
       "      <th>Pr(&gt;|z|)</th>\n",
       "    </tr>\n",
       "  </thead>\n",
       "  <tbody>\n",
       "    <tr>\n",
       "      <th>0</th>\n",
       "      <td>expressionACTR2</td>\n",
       "      <td>-0.175868</td>\n",
       "      <td>0.838728</td>\n",
       "      <td>0.247238</td>\n",
       "      <td>-0.711333</td>\n",
       "      <td>0.476878</td>\n",
       "    </tr>\n",
       "    <tr>\n",
       "      <th>1</th>\n",
       "      <td>expressionACTR3</td>\n",
       "      <td>0.111441</td>\n",
       "      <td>1.117888</td>\n",
       "      <td>0.266382</td>\n",
       "      <td>0.418351</td>\n",
       "      <td>0.675691</td>\n",
       "    </tr>\n",
       "    <tr>\n",
       "      <th>2</th>\n",
       "      <td>expressionARPC1A</td>\n",
       "      <td>0.106827</td>\n",
       "      <td>1.112742</td>\n",
       "      <td>0.188127</td>\n",
       "      <td>0.567846</td>\n",
       "      <td>0.570140</td>\n",
       "    </tr>\n",
       "    <tr>\n",
       "      <th>3</th>\n",
       "      <td>expressionARPC2</td>\n",
       "      <td>0.166429</td>\n",
       "      <td>1.181080</td>\n",
       "      <td>0.237830</td>\n",
       "      <td>0.699781</td>\n",
       "      <td>0.484064</td>\n",
       "    </tr>\n",
       "    <tr>\n",
       "      <th>4</th>\n",
       "      <td>expressionARPC3</td>\n",
       "      <td>-0.220496</td>\n",
       "      <td>0.802121</td>\n",
       "      <td>0.177576</td>\n",
       "      <td>-1.241698</td>\n",
       "      <td>0.214348</td>\n",
       "    </tr>\n",
       "    <tr>\n",
       "      <th>5</th>\n",
       "      <td>expressionARPC4</td>\n",
       "      <td>-0.127033</td>\n",
       "      <td>0.880705</td>\n",
       "      <td>0.219331</td>\n",
       "      <td>-0.579181</td>\n",
       "      <td>0.562467</td>\n",
       "    </tr>\n",
       "    <tr>\n",
       "      <th>6</th>\n",
       "      <td>expressionARPC5</td>\n",
       "      <td>0.137872</td>\n",
       "      <td>1.147829</td>\n",
       "      <td>0.186991</td>\n",
       "      <td>0.737321</td>\n",
       "      <td>0.460927</td>\n",
       "    </tr>\n",
       "    <tr>\n",
       "      <th>7</th>\n",
       "      <td>expressionACTR3B</td>\n",
       "      <td>-0.200473</td>\n",
       "      <td>0.818344</td>\n",
       "      <td>0.100017</td>\n",
       "      <td>-2.004386</td>\n",
       "      <td>0.045029</td>\n",
       "    </tr>\n",
       "    <tr>\n",
       "      <th>8</th>\n",
       "      <td>expressionARPC1B</td>\n",
       "      <td>-0.246536</td>\n",
       "      <td>0.781503</td>\n",
       "      <td>0.114362</td>\n",
       "      <td>-2.155755</td>\n",
       "      <td>0.031103</td>\n",
       "    </tr>\n",
       "    <tr>\n",
       "      <th>9</th>\n",
       "      <td>expressionARPC5L</td>\n",
       "      <td>0.060699</td>\n",
       "      <td>1.062580</td>\n",
       "      <td>0.171384</td>\n",
       "      <td>0.354172</td>\n",
       "      <td>0.723210</td>\n",
       "    </tr>\n",
       "  </tbody>\n",
       "</table>\n",
       "</div>"
      ],
      "text/plain": [
       "         Unnamed: 0      coef  exp(coef)  se(coef)         z  Pr(>|z|)\n",
       "0   expressionACTR2 -0.175868   0.838728  0.247238 -0.711333  0.476878\n",
       "1   expressionACTR3  0.111441   1.117888  0.266382  0.418351  0.675691\n",
       "2  expressionARPC1A  0.106827   1.112742  0.188127  0.567846  0.570140\n",
       "3   expressionARPC2  0.166429   1.181080  0.237830  0.699781  0.484064\n",
       "4   expressionARPC3 -0.220496   0.802121  0.177576 -1.241698  0.214348\n",
       "5   expressionARPC4 -0.127033   0.880705  0.219331 -0.579181  0.562467\n",
       "6   expressionARPC5  0.137872   1.147829  0.186991  0.737321  0.460927\n",
       "7  expressionACTR3B -0.200473   0.818344  0.100017 -2.004386  0.045029\n",
       "8  expressionARPC1B -0.246536   0.781503  0.114362 -2.155755  0.031103\n",
       "9  expressionARPC5L  0.060699   1.062580  0.171384  0.354172  0.723210"
      ]
     },
     "execution_count": 68,
     "metadata": {},
     "output_type": "execute_result"
    }
   ],
   "source": [
    "df2"
   ]
  },
  {
   "cell_type": "code",
   "execution_count": 69,
   "metadata": {},
   "outputs": [],
   "source": [
    "df2 = df2[[\"Unnamed: 0\", \"coef\", \"Pr(>|z|)\"]]"
   ]
  },
  {
   "cell_type": "code",
   "execution_count": 70,
   "metadata": {},
   "outputs": [],
   "source": [
    "df2 = df2.rename(columns={\"Unnamed: 0\": \"gene\", \"coef\": \"coefficient\", \"Pr(>|z|)\" : \"p-value\"})"
   ]
  },
  {
   "cell_type": "code",
   "execution_count": 71,
   "metadata": {},
   "outputs": [],
   "source": [
    "df2[\"gene\"] = df2[\"gene\"].apply(lambda x: x[10:])"
   ]
  },
  {
   "cell_type": "code",
   "execution_count": 72,
   "metadata": {},
   "outputs": [
    {
     "name": "stdout",
     "output_type": "stream",
     "text": [
      "Using matplotlib backend: MacOSX\n"
     ]
    },
    {
     "data": {
      "text/html": [
       "<div>\n",
       "<style scoped>\n",
       "    .dataframe tbody tr th:only-of-type {\n",
       "        vertical-align: middle;\n",
       "    }\n",
       "\n",
       "    .dataframe tbody tr th {\n",
       "        vertical-align: top;\n",
       "    }\n",
       "\n",
       "    .dataframe thead th {\n",
       "        text-align: right;\n",
       "    }\n",
       "</style>\n",
       "<table border=\"1\" class=\"dataframe\">\n",
       "  <thead>\n",
       "    <tr style=\"text-align: right;\">\n",
       "      <th></th>\n",
       "      <th>gene</th>\n",
       "      <th>coefficient</th>\n",
       "      <th>p-value</th>\n",
       "    </tr>\n",
       "  </thead>\n",
       "  <tbody>\n",
       "    <tr>\n",
       "      <th>0</th>\n",
       "      <td>ACTR2</td>\n",
       "      <td>-0.175868</td>\n",
       "      <td>0.476878</td>\n",
       "    </tr>\n",
       "    <tr>\n",
       "      <th>1</th>\n",
       "      <td>ACTR3</td>\n",
       "      <td>0.111441</td>\n",
       "      <td>0.675691</td>\n",
       "    </tr>\n",
       "    <tr>\n",
       "      <th>2</th>\n",
       "      <td>ARPC1A</td>\n",
       "      <td>0.106827</td>\n",
       "      <td>0.570140</td>\n",
       "    </tr>\n",
       "    <tr>\n",
       "      <th>3</th>\n",
       "      <td>ARPC2</td>\n",
       "      <td>0.166429</td>\n",
       "      <td>0.484064</td>\n",
       "    </tr>\n",
       "    <tr>\n",
       "      <th>4</th>\n",
       "      <td>ARPC3</td>\n",
       "      <td>-0.220496</td>\n",
       "      <td>0.214348</td>\n",
       "    </tr>\n",
       "    <tr>\n",
       "      <th>5</th>\n",
       "      <td>ARPC4</td>\n",
       "      <td>-0.127033</td>\n",
       "      <td>0.562467</td>\n",
       "    </tr>\n",
       "    <tr>\n",
       "      <th>6</th>\n",
       "      <td>ARPC5</td>\n",
       "      <td>0.137872</td>\n",
       "      <td>0.460927</td>\n",
       "    </tr>\n",
       "    <tr>\n",
       "      <th>7</th>\n",
       "      <td>ACTR3B</td>\n",
       "      <td>-0.200473</td>\n",
       "      <td>0.045029</td>\n",
       "    </tr>\n",
       "    <tr>\n",
       "      <th>8</th>\n",
       "      <td>ARPC1B</td>\n",
       "      <td>-0.246536</td>\n",
       "      <td>0.031103</td>\n",
       "    </tr>\n",
       "    <tr>\n",
       "      <th>9</th>\n",
       "      <td>ARPC5L</td>\n",
       "      <td>0.060699</td>\n",
       "      <td>0.723210</td>\n",
       "    </tr>\n",
       "  </tbody>\n",
       "</table>\n",
       "</div>"
      ],
      "text/plain": [
       "     gene  coefficient   p-value\n",
       "0   ACTR2    -0.175868  0.476878\n",
       "1   ACTR3     0.111441  0.675691\n",
       "2  ARPC1A     0.106827  0.570140\n",
       "3   ARPC2     0.166429  0.484064\n",
       "4   ARPC3    -0.220496  0.214348\n",
       "5   ARPC4    -0.127033  0.562467\n",
       "6   ARPC5     0.137872  0.460927\n",
       "7  ACTR3B    -0.200473  0.045029\n",
       "8  ARPC1B    -0.246536  0.031103\n",
       "9  ARPC5L     0.060699  0.723210"
      ]
     },
     "execution_count": 72,
     "metadata": {},
     "output_type": "execute_result"
    }
   ],
   "source": [
    "%matplotlib\n",
    "df2"
   ]
  },
  {
   "cell_type": "code",
   "execution_count": null,
   "metadata": {},
   "outputs": [],
   "source": []
  }
 ],
 "metadata": {
  "kernelspec": {
   "display_name": "Python 3",
   "language": "python",
   "name": "python3"
  },
  "language_info": {
   "codemirror_mode": {
    "name": "ipython",
    "version": 3
   },
   "file_extension": ".py",
   "mimetype": "text/x-python",
   "name": "python",
   "nbconvert_exporter": "python",
   "pygments_lexer": "ipython3",
   "version": "3.7.0"
  }
 },
 "nbformat": 4,
 "nbformat_minor": 2
}
